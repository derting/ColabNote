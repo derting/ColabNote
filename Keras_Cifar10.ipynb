{
  "nbformat": 4,
  "nbformat_minor": 0,
  "metadata": {
    "colab": {
      "name": "Keras_Cifar10.ipynb",
      "provenance": [],
      "collapsed_sections": [],
      "authorship_tag": "ABX9TyM3lNyqfAuoSYha5bndDI6g",
      "include_colab_link": true
    },
    "kernelspec": {
      "name": "python3",
      "display_name": "Python 3"
    },
    "accelerator": "GPU"
  },
  "cells": [
    {
      "cell_type": "markdown",
      "metadata": {
        "id": "view-in-github",
        "colab_type": "text"
      },
      "source": [
        "<a href=\"https://colab.research.google.com/github/derting/ColabNote/blob/master/Keras_Cifar10.ipynb\" target=\"_parent\"><img src=\"https://colab.research.google.com/assets/colab-badge.svg\" alt=\"Open In Colab\"/></a>"
      ]
    },
    {
      "cell_type": "code",
      "metadata": {
        "id": "HOvkKCm3IA3y",
        "colab_type": "code",
        "outputId": "78738be2-8436-413c-a904-1e99048c075c",
        "colab": {
          "base_uri": "https://localhost:8080/",
          "height": 34
        }
      },
      "source": [
        "import tensorflow as tf\n",
        "import matplotlib.pyplot as plt\n",
        "\n",
        "from tensorflow.keras.datasets import cifar10\n",
        "\n",
        "%matplotlib inline\n",
        "tf.__version__"
      ],
      "execution_count": 44,
      "outputs": [
        {
          "output_type": "execute_result",
          "data": {
            "text/plain": [
              "'2.2.0-rc3'"
            ]
          },
          "metadata": {
            "tags": []
          },
          "execution_count": 44
        }
      ]
    },
    {
      "cell_type": "code",
      "metadata": {
        "id": "CQ053mQET01s",
        "colab_type": "code",
        "colab": {}
      },
      "source": [
        "class_names = ['airplane', 'automobile', 'bird', 'cat', 'deer', 'dog', 'frog', 'horse', 'ship', 'truck']\n",
        "(X_train, y_train), (X_test, y_test) = cifar10.load_data()"
      ],
      "execution_count": 0,
      "outputs": []
    },
    {
      "cell_type": "code",
      "metadata": {
        "id": "7C9EVOgdT7yZ",
        "colab_type": "code",
        "outputId": "438f64f5-a8fd-4008-ea40-59403b2963c4",
        "colab": {
          "base_uri": "https://localhost:8080/",
          "height": 34
        }
      },
      "source": [
        "X_train = X_train / 255.0\n",
        "X_train.shape #50000 row, 32x32, 3維"
      ],
      "execution_count": 46,
      "outputs": [
        {
          "output_type": "execute_result",
          "data": {
            "text/plain": [
              "(50000, 32, 32, 3)"
            ]
          },
          "metadata": {
            "tags": []
          },
          "execution_count": 46
        }
      ]
    },
    {
      "cell_type": "code",
      "metadata": {
        "id": "XlTze9oVCa2_",
        "colab_type": "code",
        "colab": {
          "base_uri": "https://localhost:8080/",
          "height": 34
        },
        "outputId": "3a35566a-2f55-40c9-e303-1aa18be12a5b"
      },
      "source": [
        "X_test = X_test / 255.0\n",
        "X_test.shape #50000 row, 32x32, 3維"
      ],
      "execution_count": 47,
      "outputs": [
        {
          "output_type": "execute_result",
          "data": {
            "text/plain": [
              "(10000, 32, 32, 3)"
            ]
          },
          "metadata": {
            "tags": []
          },
          "execution_count": 47
        }
      ]
    },
    {
      "cell_type": "code",
      "metadata": {
        "id": "HQHEhvUSUNst",
        "colab_type": "code",
        "outputId": "1df1b9e9-b7ec-406b-a1e2-5a83838a0264",
        "colab": {
          "base_uri": "https://localhost:8080/",
          "height": 283
        }
      },
      "source": [
        "plt.imshow(X_train[5])"
      ],
      "execution_count": 48,
      "outputs": [
        {
          "output_type": "execute_result",
          "data": {
            "text/plain": [
              "<matplotlib.image.AxesImage at 0x7f6457d1fda0>"
            ]
          },
          "metadata": {
            "tags": []
          },
          "execution_count": 48
        },
        {
          "output_type": "display_data",
          "data": {
            "image/png": "[encoded data removed]",
            "text/plain": [
              "<Figure size 432x288 with 1 Axes>"
            ]
          },
          "metadata": {
            "tags": [],
            "needs_background": "light"
          }
        }
      ]
    },
    {
      "cell_type": "markdown",
      "metadata": {
        "id": "ck3hLlIKWzY4",
        "colab_type": "text"
      },
      "source": [
        "Convolutional Neural Network"
      ]
    },
    {
      "cell_type": "code",
      "metadata": {
        "id": "PBvASaC6WzFl",
        "colab_type": "code",
        "outputId": "ea6653d5-623c-4d69-84a6-3790abaef78c",
        "colab": {
          "base_uri": "https://localhost:8080/",
          "height": 731
        }
      },
      "source": [
        "model = tf.keras.models.Sequential()\n",
        "#第一層\n",
        "model.add(tf.keras.layers.Conv2D(filters=32, kernel_size=3, padding=\"same\", activation=\"relu\", input_shape=[32, 32, 3])) #Conv2D作為第一層需要提供input_shape參數\n",
        "\n",
        "#第二層\n",
        "model.add(tf.keras.layers.Conv2D(filters=32, kernel_size=3, padding=\"same\", activation=\"relu\"))\n",
        "model.add(tf.keras.layers.MaxPool2D(pool_size=2, strides=2, padding='valid'))\n",
        "\n",
        "#第三層\n",
        "model.add(tf.keras.layers.Conv2D(filters=64, kernel_size=3, padding=\"same\", activation=\"relu\"))\n",
        "\n",
        "#第四層\n",
        "model.add(tf.keras.layers.Conv2D(filters=64, kernel_size=3, padding=\"same\", activation=\"relu\"))\n",
        "model.add(tf.keras.layers.MaxPool2D(pool_size=2, strides=2, padding='valid'))\n",
        "\n",
        "\n",
        "#第三層\n",
        "model.add(tf.keras.layers.Conv2D(filters=128, kernel_size=3, padding=\"same\", activation=\"relu\"))\n",
        "\n",
        "#第四層\n",
        "model.add(tf.keras.layers.Conv2D(filters=128, kernel_size=3, padding=\"same\", activation=\"relu\"))\n",
        "model.add(tf.keras.layers.MaxPool2D(pool_size=2, strides=2, padding='valid'))\n",
        "\n",
        "\n",
        "model.add(tf.keras.layers.Conv2D(filters=256, kernel_size=3, padding=\"same\", activation=\"relu\"))\n",
        "model.add(tf.keras.layers.Conv2D(filters=256, kernel_size=3, padding=\"same\", activation=\"relu\"))\n",
        "model.add(tf.keras.layers.MaxPool2D(pool_size=2, strides=2, padding='valid'))\n",
        "\n",
        "model.add(tf.keras.layers.Conv2D(filters=512, kernel_size=3, padding=\"same\", activation=\"relu\"))\n",
        "model.add(tf.keras.layers.Conv2D(filters=512, kernel_size=3, padding=\"same\", activation=\"relu\"))\n",
        "model.add(tf.keras.layers.MaxPool2D(pool_size=2, strides=2, padding='valid'))\n",
        "\n",
        "\n",
        "# model.add(tf.keras.layers.Conv2D(filters=128, kernel_size=3, padding=\"same\", activation=\"relu\"))\n",
        "# model.add(tf.keras.layers.Conv2D(filters=128, kernel_size=3, padding=\"same\", activation=\"relu\"))\n",
        "# model.add(tf.keras.layers.MaxPool2D(pool_size=2, strides=2, padding='valid'))\n",
        "\n",
        "#第五層\n",
        "model.add(tf.keras.layers.Flatten())\n",
        "# model.add(tf.keras.layers.Dense(units=128, activation='relu'))\n",
        "\n",
        "# model.add(tf.keras.layers.Dropout(0.2))\n",
        "\n",
        "#輸出層\n",
        "model.add(tf.keras.layers.Dense(units=10, activation='softmax'))\n",
        "model.summary()"
      ],
      "execution_count": 118,
      "outputs": [
        {
          "output_type": "stream",
          "text": [
            "Model: \"sequential_41\"\n",
            "_________________________________________________________________\n",
            "Layer (type)                 Output Shape              Param #   \n",
            "=================================================================\n",
            "conv2d_150 (Conv2D)          (None, 32, 32, 32)        896       \n",
            "_________________________________________________________________\n",
            "conv2d_151 (Conv2D)          (None, 32, 32, 32)        9248      \n",
            "_________________________________________________________________\n",
            "max_pooling2d_73 (MaxPooling (None, 16, 16, 32)        0         \n",
            "_________________________________________________________________\n",
            "conv2d_152 (Conv2D)          (None, 16, 16, 64)        18496     \n",
            "_________________________________________________________________\n",
            "conv2d_153 (Conv2D)          (None, 16, 16, 64)        36928     \n",
            "_________________________________________________________________\n",
            "max_pooling2d_74 (MaxPooling (None, 8, 8, 64)          0         \n",
            "_________________________________________________________________\n",
            "conv2d_154 (Conv2D)          (None, 8, 8, 128)         73856     \n",
            "_________________________________________________________________\n",
            "conv2d_155 (Conv2D)          (None, 8, 8, 128)         147584    \n",
            "_________________________________________________________________\n",
            "max_pooling2d_75 (MaxPooling (None, 4, 4, 128)         0         \n",
            "_________________________________________________________________\n",
            "conv2d_156 (Conv2D)          (None, 4, 4, 256)         295168    \n",
            "_________________________________________________________________\n",
            "conv2d_157 (Conv2D)          (None, 4, 4, 256)         590080    \n",
            "_________________________________________________________________\n",
            "max_pooling2d_76 (MaxPooling (None, 2, 2, 256)         0         \n",
            "_________________________________________________________________\n",
            "conv2d_158 (Conv2D)          (None, 2, 2, 512)         1180160   \n",
            "_________________________________________________________________\n",
            "conv2d_159 (Conv2D)          (None, 2, 2, 512)         2359808   \n",
            "_________________________________________________________________\n",
            "max_pooling2d_77 (MaxPooling (None, 1, 1, 512)         0         \n",
            "_________________________________________________________________\n",
            "flatten_33 (Flatten)         (None, 512)               0         \n",
            "_________________________________________________________________\n",
            "dense_46 (Dense)             (None, 10)                5130      \n",
            "=================================================================\n",
            "Total params: 4,717,354\n",
            "Trainable params: 4,717,354\n",
            "Non-trainable params: 0\n",
            "_________________________________________________________________\n"
          ],
          "name": "stdout"
        }
      ]
    },
    {
      "cell_type": "code",
      "metadata": {
        "id": "8PETXcn8XB26",
        "colab_type": "code",
        "outputId": "0c1b5d58-b31d-48ec-c5f8-bb43a913f274",
        "colab": {
          "base_uri": "https://localhost:8080/",
          "height": 564
        }
      },
      "source": [
        "model.compile(loss=\"sparse_categorical_crossentropy\", optimizer=\"Adam\", metrics=[\"sparse_categorical_accuracy\"])\n",
        "model.fit(X_train, y_train, epochs=15)"
      ],
      "execution_count": 119,
      "outputs": [
        {
          "output_type": "stream",
          "text": [
            "Epoch 1/15\n",
            "1563/1563 [==============================] - 24s 15ms/step - loss: 2.3028 - sparse_categorical_accuracy: 0.0972\n",
            "Epoch 2/15\n",
            "1563/1563 [==============================] - 24s 15ms/step - loss: 2.3028 - sparse_categorical_accuracy: 0.0964\n",
            "Epoch 3/15\n",
            "1563/1563 [==============================] - 24s 15ms/step - loss: 2.3028 - sparse_categorical_accuracy: 0.0989\n",
            "Epoch 4/15\n",
            "1563/1563 [==============================] - 24s 15ms/step - loss: 2.3028 - sparse_categorical_accuracy: 0.0971\n",
            "Epoch 5/15\n",
            "1563/1563 [==============================] - 24s 15ms/step - loss: 2.3028 - sparse_categorical_accuracy: 0.0965\n",
            "Epoch 6/15\n",
            "1563/1563 [==============================] - 24s 15ms/step - loss: 2.3028 - sparse_categorical_accuracy: 0.0949\n",
            "Epoch 7/15\n",
            "1563/1563 [==============================] - 24s 15ms/step - loss: 2.3028 - sparse_categorical_accuracy: 0.0990\n",
            "Epoch 8/15\n",
            "1563/1563 [==============================] - 24s 15ms/step - loss: 2.3027 - sparse_categorical_accuracy: 0.0978\n",
            "Epoch 9/15\n",
            "1563/1563 [==============================] - 24s 15ms/step - loss: 2.3028 - sparse_categorical_accuracy: 0.0978\n",
            "Epoch 10/15\n",
            "1563/1563 [==============================] - 24s 15ms/step - loss: 2.3028 - sparse_categorical_accuracy: 0.0964\n",
            "Epoch 11/15\n",
            "1563/1563 [==============================] - 24s 15ms/step - loss: 2.3028 - sparse_categorical_accuracy: 0.0967\n",
            "Epoch 12/15\n",
            "1563/1563 [==============================] - 24s 15ms/step - loss: 2.3028 - sparse_categorical_accuracy: 0.1001\n",
            "Epoch 13/15\n",
            "1563/1563 [==============================] - 24s 15ms/step - loss: 2.3028 - sparse_categorical_accuracy: 0.1004\n",
            "Epoch 14/15\n",
            "1563/1563 [==============================] - 24s 15ms/step - loss: 2.3028 - sparse_categorical_accuracy: 0.0970\n",
            "Epoch 15/15\n",
            "1563/1563 [==============================] - 24s 15ms/step - loss: 2.3028 - sparse_categorical_accuracy: 0.0992\n"
          ],
          "name": "stdout"
        },
        {
          "output_type": "execute_result",
          "data": {
            "text/plain": [
              "<tensorflow.python.keras.callbacks.History at 0x7f6434168d68>"
            ]
          },
          "metadata": {
            "tags": []
          },
          "execution_count": 119
        }
      ]
    },
    {
      "cell_type": "code",
      "metadata": {
        "id": "PCqpsAa2B9Se",
        "colab_type": "code",
        "colab": {
          "base_uri": "https://localhost:8080/",
          "height": 71
        },
        "outputId": "bcea6313-026b-4ff3-c0bf-c1fb07cce5bf"
      },
      "source": [
        "#X_train, y_train, X_test, y_test\n",
        "test_loss, test_accuracy = model.evaluate(X_test, y_test)\n",
        "print(\"Test accuracy: {}\".format(test_accuracy))"
      ],
      "execution_count": 120,
      "outputs": [
        {
          "output_type": "stream",
          "text": [
            "313/313 [==============================] - 2s 5ms/step - loss: 2.3026 - sparse_categorical_accuracy: 0.1000\n",
            "Test accuracy: 0.10000000149011612\n"
          ],
          "name": "stdout"
        }
      ]
    }
  ]
}