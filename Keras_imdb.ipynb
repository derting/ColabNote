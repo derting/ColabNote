{
  "nbformat": 4,
  "nbformat_minor": 0,
  "metadata": {
    "colab": {
      "name": "Keras_imdb.ipynb",
      "provenance": [],
      "collapsed_sections": [],
      "authorship_tag": "ABX9TyMrFEfCTXelV7529AuV+o3T",
      "include_colab_link": true
    },
    "kernelspec": {
      "name": "python3",
      "display_name": "Python 3"
    },
    "accelerator": "GPU"
  },
  "cells": [
    {
      "cell_type": "markdown",
      "metadata": {
        "id": "view-in-github",
        "colab_type": "text"
      },
      "source": [
        "<a href=\"https://colab.research.google.com/github/derting/ColabNote/blob/master/Keras_imdb.ipynb\" target=\"_parent\"><img src=\"https://colab.research.google.com/assets/colab-badge.svg\" alt=\"Open In Colab\"/></a>"
      ]
    },
    {
      "cell_type": "code",
      "metadata": {
        "id": "V9euNa0VlFZL",
        "colab_type": "code",
        "colab": {
          "base_uri": "https://localhost:8080/",
          "height": 34
        },
        "outputId": "3d511f0d-c46f-44a1-adf7-aeed1d468fc5"
      },
      "source": [
        "import tensorflow as tf\n",
        "from tensorflow.keras.datasets import imdb\n",
        "\n",
        "tf.__version__"
      ],
      "execution_count": 2,
      "outputs": [
        {
          "output_type": "execute_result",
          "data": {
            "text/plain": [
              "'2.2.0-rc3'"
            ]
          },
          "metadata": {
            "tags": []
          },
          "execution_count": 2
        }
      ]
    },
    {
      "cell_type": "code",
      "metadata": {
        "id": "5nqk-LTrm8Qs",
        "colab_type": "code",
        "colab": {}
      },
      "source": [
        "number_of_words = 20000\n",
        "max_len = 100"
      ],
      "execution_count": 0,
      "outputs": []
    },
    {
      "cell_type": "code",
      "metadata": {
        "id": "n-0cT21zHqsi",
        "colab_type": "code",
        "colab": {}
      },
      "source": [
        "(X_train, y_train), (X_test, y_test) = imdb.load_data(num_words=number_of_words)\n",
        "X_train = tf.keras.preprocessing.sequence.pad_sequences(X_train, maxlen=max_len)\n",
        "X_test = tf.keras.preprocessing.sequence.pad_sequences(X_test, maxlen=max_len)"
      ],
      "execution_count": 0,
      "outputs": []
    },
    {
      "cell_type": "code",
      "metadata": {
        "id": "f7gHQA2oH50n",
        "colab_type": "code",
        "colab": {
          "base_uri": "https://localhost:8080/",
          "height": 632
        },
        "outputId": "c024f2f1-e15d-46e9-e6fe-31106a827324"
      },
      "source": [
        "model = tf.keras.Sequential()\n",
        "model.add(tf.keras.layers.Embedding(input_dim=number_of_words, output_dim=128, input_shape=(X_train.shape[1],)))\n",
        "model.add(tf.keras.layers.LSTM(units=128, activation='tanh'))\n",
        "model.add(tf.keras.layers.Dense(units=1, activation='sigmoid'))\n",
        "#optimizer: 也是可以跟之前一樣使用adam, 但在RNN中使用rmsprop效果會好一些\n",
        "#loss: 之前會用 sparse_categorical_crossentropy 是因為多元分類；這次只有二元分類，因此使用binary_crossentropy\n",
        "#metrics: 之前用 sparse_categorical_accuracy 是因為多元分類；這次只有二元分類，因此使用accuracy\n",
        "model.compile(optimizer='rmsprop', loss='binary_crossentropy', metrics=['accuracy'])\n",
        "model.summary()\n",
        "\n",
        "# 單次訓練以128row批次訓練，為了提高分數\n",
        "model.fit(X_train, y_train, epochs=10, batch_size=64)"
      ],
      "execution_count": 22,
      "outputs": [
        {
          "output_type": "stream",
          "text": [
            "Model: \"sequential_5\"\n",
            "_________________________________________________________________\n",
            "Layer (type)                 Output Shape              Param #   \n",
            "=================================================================\n",
            "embedding_4 (Embedding)      (None, 100, 128)          2560000   \n",
            "_________________________________________________________________\n",
            "lstm_4 (LSTM)                (None, 128)               131584    \n",
            "_________________________________________________________________\n",
            "dense_4 (Dense)              (None, 1)                 129       \n",
            "=================================================================\n",
            "Total params: 2,691,713\n",
            "Trainable params: 2,691,713\n",
            "Non-trainable params: 0\n",
            "_________________________________________________________________\n",
            "Epoch 1/10\n",
            "391/391 [==============================] - 17s 43ms/step - loss: 0.4323 - accuracy: 0.8028\n",
            "Epoch 2/10\n",
            "391/391 [==============================] - 17s 43ms/step - loss: 0.2780 - accuracy: 0.8882\n",
            "Epoch 3/10\n",
            "391/391 [==============================] - 17s 43ms/step - loss: 0.2253 - accuracy: 0.9126\n",
            "Epoch 4/10\n",
            "391/391 [==============================] - 17s 44ms/step - loss: 0.1885 - accuracy: 0.9299\n",
            "Epoch 5/10\n",
            "391/391 [==============================] - 17s 44ms/step - loss: 0.1555 - accuracy: 0.9434\n",
            "Epoch 6/10\n",
            "391/391 [==============================] - 17s 44ms/step - loss: 0.1298 - accuracy: 0.9541\n",
            "Epoch 7/10\n",
            "391/391 [==============================] - 17s 44ms/step - loss: 0.1057 - accuracy: 0.9641\n",
            "Epoch 8/10\n",
            "391/391 [==============================] - 17s 43ms/step - loss: 0.0842 - accuracy: 0.9710\n",
            "Epoch 9/10\n",
            "391/391 [==============================] - 17s 43ms/step - loss: 0.0652 - accuracy: 0.9780\n",
            "Epoch 10/10\n",
            "391/391 [==============================] - 17s 44ms/step - loss: 0.0502 - accuracy: 0.9834\n"
          ],
          "name": "stdout"
        },
        {
          "output_type": "execute_result",
          "data": {
            "text/plain": [
              "<tensorflow.python.keras.callbacks.History at 0x7fa45603de10>"
            ]
          },
          "metadata": {
            "tags": []
          },
          "execution_count": 22
        }
      ]
    },
    {
      "cell_type": "code",
      "metadata": {
        "id": "bpFFxwTtIH9B",
        "colab_type": "code",
        "colab": {
          "base_uri": "https://localhost:8080/",
          "height": 71
        },
        "outputId": "409ea40c-91b3-4a41-f6e3-bc64e3aa5c3b"
      },
      "source": [
        "test_loss, test_accuracy = model.evaluate(X_test, y_test)\n",
        "print(\"Test accuracy: {}\".format(test_accuracy))"
      ],
      "execution_count": 23,
      "outputs": [
        {
          "output_type": "stream",
          "text": [
            "782/782 [==============================] - 8s 11ms/step - loss: 0.6524 - accuracy: 0.8308\n",
            "Test accuracy: 0.8307600021362305\n"
          ],
          "name": "stdout"
        }
      ]
    },
    {
      "cell_type": "code",
      "metadata": {
        "id": "mHIzKWDjnAQa",
        "colab_type": "code",
        "colab": {}
      },
      "source": [
        "#np_load_old = np.load\n",
        "#np.load = lambda *a,**k: np_load_old(*a, allow_pickle=True, **k)\n",
        "#np.load = np_load_old"
      ],
      "execution_count": 0,
      "outputs": []
    }
  ]
}