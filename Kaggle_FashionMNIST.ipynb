{
  "nbformat": 4,
  "nbformat_minor": 0,
  "metadata": {
    "colab": {
      "name": "Kaggle_FashionMNIST.ipynb",
      "provenance": [],
      "collapsed_sections": [],
      "authorship_tag": "ABX9TyMmCQDoFdPLQnnwyievx6lg",
      "include_colab_link": true
    },
    "kernelspec": {
      "name": "python3",
      "display_name": "Python 3"
    }
  },
  "cells": [
    {
      "cell_type": "markdown",
      "metadata": {
        "id": "view-in-github",
        "colab_type": "text"
      },
      "source": [
        "<a href=\"https://colab.research.google.com/github/derting/ColabNote/blob/master/Kaggle_FashionMNIST.ipynb\" target=\"_parent\"><img src=\"https://colab.research.google.com/assets/colab-badge.svg\" alt=\"Open In Colab\"/></a>"
      ]
    },
    {
      "cell_type": "markdown",
      "metadata": {
        "id": "BQK2XnrXY1bi",
        "colab_type": "text"
      },
      "source": [
        "TensorFlow 學習：Fashion MNIST識別"
      ]
    },
    {
      "cell_type": "code",
      "metadata": {
        "id": "DDDY8A1jraUb",
        "colab_type": "code",
        "colab": {}
      },
      "source": [
        "import tensorflow as tf\n",
        "import numpy as np\n",
        "import datetime \n",
        "from tensorflow.keras.datasets import fashion_mnist\n",
        "\n",
        "import matplotlib.pyplot as plt\n",
        "import matplotlib"
      ],
      "execution_count": 0,
      "outputs": []
    },
    {
      "cell_type": "code",
      "metadata": {
        "id": "HpH06ZyFrlMN",
        "colab_type": "code",
        "colab": {}
      },
      "source": [
        "tf.__version__\n",
        "\n",
        "# T-shirt/top: 短袖圓領T恤\n",
        "# Trouser: 褲子\n",
        "# Pullover: 套衫\n",
        "# Dress: 連衣裙\n",
        "# Coat: 外套\n",
        "# Sandal: 涼鞋\n",
        "# Shirt: 襯衫\n",
        "# Sneaker: 運動鞋\n",
        "# Bag: 包\n",
        "# Ankle boot: 短靴\n",
        "class_names = ['T-shirt/top','Trouser','Pullover','Dress',\n",
        "               'Coat','Sandal','Shirt','Sneaker','Bag','Ankle boot']"
      ],
      "execution_count": 0,
      "outputs": []
    },
    {
      "cell_type": "code",
      "metadata": {
        "id": "T8Kn-ypSf35k",
        "colab_type": "code",
        "colab": {}
      },
      "source": [
        "(X_train, y_train), (X_test, y_test) = fashion_mnist.load_data()"
      ],
      "execution_count": 0,
      "outputs": []
    },
    {
      "cell_type": "code",
      "metadata": {
        "id": "ygCV8MVugCUz",
        "colab_type": "code",
        "colab": {}
      },
      "source": [
        "X_train = X_train / 255.0\n",
        "X_test = X_test / 255.0"
      ],
      "execution_count": 0,
      "outputs": []
    },
    {
      "cell_type": "code",
      "metadata": {
        "id": "p_DpH8kKUwvX",
        "colab_type": "code",
        "colab": {
          "base_uri": "https://localhost:8080/",
          "height": 300
        },
        "outputId": "e1dda3ad-de49-4e14-cfb0-558c2de0e3e8"
      },
      "source": [
        "# 展示1張圖\n",
        "idx = 5\n",
        "plt.figure()\n",
        "plt.imshow(X_train[idx])\n",
        "plt.grid(False)\n",
        "plt.colorbar()\n",
        "plt.xlabel(class_names[y_train[idx]])"
      ],
      "execution_count": 66,
      "outputs": [
        {
          "output_type": "execute_result",
          "data": {
            "text/plain": [
              "Text(0.5, 0, 'Pullover')"
            ]
          },
          "metadata": {
            "tags": []
          },
          "execution_count": 66
        },
        {
          "output_type": "display_data",
          "data": {
            "image/png": "[encoded data removed]",
            "text/plain": [
              "<Figure size 432x288 with 2 Axes>"
            ]
          },
          "metadata": {
            "tags": [],
            "needs_background": "light"
          }
        }
      ]
    },
    {
      "cell_type": "code",
      "metadata": {
        "id": "Ogb4pBepYQ7p",
        "colab_type": "code",
        "colab": {
          "base_uri": "https://localhost:8080/",
          "height": 589
        },
        "outputId": "7655afaf-ddc5-4c4f-d997-c19b14e94004"
      },
      "source": [
        "# 展示25張圖\n",
        "\n",
        "# 儲存畫布的圖形，寬度為 10 ， 長度為10\n",
        "plt.figure(figsize=(10,10))\n",
        "\n",
        "# 顯示訓練集的 25 張影象\n",
        "for i in range(25):\n",
        "    # 建立分佈 5 * 5 個圖形\n",
        "    plt.subplot(5, 5, i+1)\n",
        "    plt.xticks([])\n",
        "    plt.yticks([])\n",
        "    plt.grid(False)\n",
        "    # 顯示照片，以cm 為單位。\n",
        "    plt.imshow(X_train[i], cmap=plt.cm.binary)\n",
        "    plt.xlabel(class_names[y_train[i]])"
      ],
      "execution_count": 25,
      "outputs": [
        {
          "output_type": "display_data",
          "data": {
            "image/png": "[encoded data removed]",
            "text/plain": [
              "<Figure size 720x720 with 25 Axes>"
            ]
          },
          "metadata": {
            "tags": []
          }
        }
      ]
    },
    {
      "cell_type": "code",
      "metadata": {
        "id": "9fsxrPc3hDk3",
        "colab_type": "code",
        "colab": {
          "base_uri": "https://localhost:8080/",
          "height": 34
        },
        "outputId": "ceb84ab6-8655-4e04-869d-96c3d54648bf"
      },
      "source": [
        "X_train = X_train.reshape(-1, 28*28)\n",
        "X_train.shape\n"
      ],
      "execution_count": 26,
      "outputs": [
        {
          "output_type": "execute_result",
          "data": {
            "text/plain": [
              "(60000, 784)"
            ]
          },
          "metadata": {
            "tags": []
          },
          "execution_count": 26
        }
      ]
    },
    {
      "cell_type": "code",
      "metadata": {
        "id": "IRZdHeqkhL_h",
        "colab_type": "code",
        "colab": {}
      },
      "source": [
        "X_test = X_test.reshape(-1, 28*28)\n"
      ],
      "execution_count": 0,
      "outputs": []
    },
    {
      "cell_type": "markdown",
      "metadata": {
        "id": "OzDJojszZWok",
        "colab_type": "text"
      },
      "source": [
        "建立模型 3 Layer"
      ]
    },
    {
      "cell_type": "code",
      "metadata": {
        "id": "t4JoAiHjdrZI",
        "colab_type": "code",
        "colab": {}
      },
      "source": [
        "# 建立模型\n",
        "def build_model():\n",
        "  # 線性疊加\n",
        "  model = tf.keras.models.Sequential()\n",
        "  # Layer 1: 改變平緩輸入 \n",
        "  model.add(tf.keras.layers.Flatten(input_shape=(28, 28)))\n",
        "  # Layer 2:第一層緊密連線128神經元\n",
        "  #model.add(tf.keras.layers.Dense(units=128, activation='relu', input_shape=(784, )))\n",
        "  model.add(tf.keras.layers.Dense(128, activation=tf.nn.relu))\n",
        "  # Layer 3:使用Dropout正則化\n",
        "  model.add(tf.keras.layers.Dropout(0.2))  \n",
        "  # Layer 4:輸出分成10個類別\n",
        "  #model.add(tf.keras.layers.Dense(units=10, activation='softmax'))\n",
        "  model.add(tf.keras.layers.Dense(10, activation=tf.nn.softmax))\n",
        "  return model"
      ],
      "execution_count": 0,
      "outputs": []
    },
    {
      "cell_type": "code",
      "metadata": {
        "id": "Vu-l9UQgi1as",
        "colab_type": "code",
        "colab": {
          "base_uri": "https://localhost:8080/",
          "height": 255
        },
        "outputId": "e0ca054c-a8ec-42c9-aba6-cdbbd8fe6302"
      },
      "source": [
        "# 編譯模型\n",
        "model = build_model()\n",
        "\n",
        "model.compile(optimizer='adam', \n",
        "              loss='sparse_categorical_crossentropy', \n",
        "              metrics=['accuracy']) \n",
        "model.summary()"
      ],
      "execution_count": 36,
      "outputs": [
        {
          "output_type": "stream",
          "text": [
            "Model: \"sequential_6\"\n",
            "_________________________________________________________________\n",
            "Layer (type)                 Output Shape              Param #   \n",
            "=================================================================\n",
            "flatten_6 (Flatten)          (None, 784)               0         \n",
            "_________________________________________________________________\n",
            "dense_12 (Dense)             (None, 128)               100480    \n",
            "_________________________________________________________________\n",
            "dense_13 (Dense)             (None, 10)                1290      \n",
            "=================================================================\n",
            "Total params: 101,770\n",
            "Trainable params: 101,770\n",
            "Non-trainable params: 0\n",
            "_________________________________________________________________\n"
          ],
          "name": "stdout"
        }
      ]
    },
    {
      "cell_type": "markdown",
      "metadata": {
        "id": "3gl_1T5cZeG_",
        "colab_type": "text"
      },
      "source": [
        "Model 訓練"
      ]
    },
    {
      "cell_type": "code",
      "metadata": {
        "id": "JgI9TDG7jSWN",
        "colab_type": "code",
        "colab": {
          "base_uri": "https://localhost:8080/",
          "height": 258
        },
        "outputId": "6b9dcb81-6ae0-4ac6-b976-392c89b9acd1"
      },
      "source": [
        "# 訓練模型\n",
        "model.fit(X_train, y_train, epochs=5)"
      ],
      "execution_count": 37,
      "outputs": [
        {
          "output_type": "stream",
          "text": [
            "Epoch 1/5\n",
            "WARNING:tensorflow:Model was constructed with shape (None, 28, 28) for input Tensor(\"flatten_6_input:0\", shape=(None, 28, 28), dtype=float32), but it was called on an input with incompatible shape (32, 784).\n",
            "WARNING:tensorflow:Model was constructed with shape (None, 28, 28) for input Tensor(\"flatten_6_input:0\", shape=(None, 28, 28), dtype=float32), but it was called on an input with incompatible shape (32, 784).\n",
            "1875/1875 [==============================] - 3s 2ms/step - loss: 0.4961 - accuracy: 0.8256\n",
            "Epoch 2/5\n",
            "1875/1875 [==============================] - 3s 2ms/step - loss: 0.3761 - accuracy: 0.8648\n",
            "Epoch 3/5\n",
            "1875/1875 [==============================] - 3s 2ms/step - loss: 0.3375 - accuracy: 0.8770\n",
            "Epoch 4/5\n",
            "1875/1875 [==============================] - 3s 2ms/step - loss: 0.3132 - accuracy: 0.8853\n",
            "Epoch 5/5\n",
            "1875/1875 [==============================] - 3s 2ms/step - loss: 0.2974 - accuracy: 0.8913\n"
          ],
          "name": "stdout"
        },
        {
          "output_type": "execute_result",
          "data": {
            "text/plain": [
              "<tensorflow.python.keras.callbacks.History at 0x7f4ebe16eb70>"
            ]
          },
          "metadata": {
            "tags": []
          },
          "execution_count": 37
        }
      ]
    },
    {
      "cell_type": "markdown",
      "metadata": {
        "id": "pEyDSwptZeEK",
        "colab_type": "text"
      },
      "source": [
        "Model 評估準確度"
      ]
    },
    {
      "cell_type": "code",
      "metadata": {
        "id": "vWNhhF37jc8D",
        "colab_type": "code",
        "colab": {
          "base_uri": "https://localhost:8080/",
          "height": 71
        },
        "outputId": "71f3a4f0-29f6-432f-e59a-6ed20553d320"
      },
      "source": [
        "test_loss, test_accuracy = model.evaluate(X_test, y_test)"
      ],
      "execution_count": 38,
      "outputs": [
        {
          "output_type": "stream",
          "text": [
            "WARNING:tensorflow:Model was constructed with shape (None, 28, 28) for input Tensor(\"flatten_6_input:0\", shape=(None, 28, 28), dtype=float32), but it was called on an input with incompatible shape (None, 784).\n",
            "313/313 [==============================] - 0s 1ms/step - loss: 0.3483 - accuracy: 0.8728\n"
          ],
          "name": "stdout"
        }
      ]
    },
    {
      "cell_type": "code",
      "metadata": {
        "id": "GY-zeKV0jfgq",
        "colab_type": "code",
        "colab": {
          "base_uri": "https://localhost:8080/",
          "height": 34
        },
        "outputId": "c125bd30-900d-4bc6-a3d6-7dbb220d94b6"
      },
      "source": [
        "print(\"Test accuracy: {}\".format(test_accuracy))"
      ],
      "execution_count": 39,
      "outputs": [
        {
          "output_type": "stream",
          "text": [
            "Test accuracy: 0.8727999925613403\n"
          ],
          "name": "stdout"
        }
      ]
    },
    {
      "cell_type": "markdown",
      "metadata": {
        "id": "FgW9Y49VgbVV",
        "colab_type": "text"
      },
      "source": [
        "Ｍodel 做預測"
      ]
    },
    {
      "cell_type": "code",
      "metadata": {
        "id": "qGu8KcMcgZXR",
        "colab_type": "code",
        "colab": {
          "base_uri": "https://localhost:8080/",
          "height": 54
        },
        "outputId": "e63cb8e8-bced-47c2-9eeb-2a77ed17e126"
      },
      "source": [
        "predictions = model.predict(X_test)"
      ],
      "execution_count": 40,
      "outputs": [
        {
          "output_type": "stream",
          "text": [
            "WARNING:tensorflow:Model was constructed with shape (None, 28, 28) for input Tensor(\"flatten_6_input:0\", shape=(None, 28, 28), dtype=float32), but it was called on an input with incompatible shape (None, 784).\n"
          ],
          "name": "stdout"
        }
      ]
    },
    {
      "cell_type": "code",
      "metadata": {
        "id": "JS4-x9XZh4Yq",
        "colab_type": "code",
        "colab": {
          "base_uri": "https://localhost:8080/",
          "height": 286
        },
        "outputId": "47f983e8-c899-4e17-e6d1-bbcfdb0b8f7a"
      },
      "source": [
        "\n",
        "plt.figure()\n",
        "plt.imshow(X_test[12])\n",
        "plt.grid(False)\n",
        "plt.colorbar()"
      ],
      "execution_count": 67,
      "outputs": [
        {
          "output_type": "execute_result",
          "data": {
            "text/plain": [
              "<matplotlib.colorbar.Colorbar at 0x7f4ebc78b128>"
            ]
          },
          "metadata": {
            "tags": []
          },
          "execution_count": 67
        },
        {
          "output_type": "display_data",
          "data": {
            "image/png": "[encoded data removed]",
            "text/plain": [
              "<Figure size 432x288 with 2 Axes>"
            ]
          },
          "metadata": {
            "tags": [],
            "needs_background": "light"
          }
        }
      ]
    },
    {
      "cell_type": "code",
      "metadata": {
        "id": "Yuit5KDdgibf",
        "colab_type": "code",
        "colab": {
          "base_uri": "https://localhost:8080/",
          "height": 549
        },
        "outputId": "2d4e529b-3b0a-4a1b-d4f6-00eaffd1bc69"
      },
      "source": [
        "# 提取20個數據集，進行預測判斷是否正確\n",
        "for i in range(20):\n",
        "    pre = class_names[np.argmax(predictions[i])]\n",
        "    tar = class_names[y_test[i]]\n",
        "    if(pre != tar):\n",
        "      # print(\" idx: %s, 預測：%s   實際：%s\" % (i, pre, tar))\n",
        "      plt.figure()\n",
        "      plt.imshow(X_test[i])\n",
        "      plt.grid(False)\n",
        "      plt.colorbar()\n",
        "      plt.xlabel(\"id:{}, p:{}, a:{}\".format( i, pre, tar, color='red'))"
      ],
      "execution_count": 78,
      "outputs": [
        {
          "output_type": "display_data",
          "data": {
            "image/png": "[encoded data removed]",
            "text/plain": [
              "<Figure size 432x288 with 2 Axes>"
            ]
          },
          "metadata": {
            "tags": [],
            "needs_background": "light"
          }
        },
        {
          "output_type": "display_data",
          "data": {
            "image/png": "[encoded data removed]",
            "text/plain": [
              "<Figure size 432x288 with 2 Axes>"
            ]
          },
          "metadata": {
            "tags": [],
            "needs_background": "light"
          }
        }
      ]
    }
  ]
}